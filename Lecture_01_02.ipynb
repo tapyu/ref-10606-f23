{
  "cells": [
    {
      "cell_type": "markdown",
      "metadata": {
        "id": "view-in-github",
        "colab_type": "text"
      },
      "source": [
        "<a href=\"https://colab.research.google.com/github/tapyu/ref-10606-f23/blob/main/Lecture_01_02.ipynb\" target=\"_parent\"><img src=\"https://colab.research.google.com/assets/colab-badge.svg\" alt=\"Open In Colab\"/></a>"
      ]
    },
    {
      "cell_type": "markdown",
      "metadata": {
        "id": "xv_yvZcMA0FE"
      },
      "source": [
        "# Sets\n"
      ]
    },
    {
      "cell_type": "code",
      "execution_count": null,
      "metadata": {
        "scrolled": true,
        "id": "e5GV5RHDA0FG",
        "outputId": "2be3f89e-4477-4736-bfde-6999db2a1e84"
      },
      "outputs": [
        {
          "data": {
            "text/plain": [
              "{4, 9, 16}"
            ]
          },
          "execution_count": 7,
          "metadata": {},
          "output_type": "execute_result"
        }
      ],
      "source": [
        "{x**2 for x in range(5) if x>1}"
      ]
    },
    {
      "cell_type": "markdown",
      "metadata": {
        "id": "wxwPNx_rA0FH"
      },
      "source": [
        "Write a set builder that find elements of $\\mathbb{N}$ smaller 50 than not divisible by 2,3 or 5:"
      ]
    },
    {
      "cell_type": "code",
      "execution_count": null,
      "metadata": {
        "id": "vqxcJ0M_A0FH"
      },
      "outputs": [],
      "source": [
        "#write a test for divisibility of a single number by 3\n",
        "(x % != 2) and (x % 3 != 0) and (x % 5 != 0)"
      ]
    },
    {
      "cell_type": "code",
      "execution_count": null,
      "metadata": {
        "id": "O94r4aT9A0FH",
        "colab": {
          "base_uri": "https://localhost:8080/"
        },
        "outputId": "1e12e82b-69ee-4152-cc5d-063398f38bd7"
      },
      "outputs": [
        {
          "output_type": "execute_result",
          "data": {
            "text/plain": [
              "False"
            ]
          },
          "metadata": {},
          "execution_count": 2
        }
      ],
      "source": [
        "x = 4\n",
        "#test whether x is not divisible by all of 2, 3, and 5\n",
        "(x % 2 != 0) and (x % 3 != 0) and (x % 5 != 0)"
      ]
    },
    {
      "cell_type": "code",
      "execution_count": null,
      "metadata": {
        "id": "cko0inLuA0FH",
        "colab": {
          "base_uri": "https://localhost:8080/"
        },
        "outputId": "80cc6350-ca4e-4ddf-a632-8ec4b757ad44"
      },
      "outputs": [
        {
          "output_type": "execute_result",
          "data": {
            "text/plain": [
              "{1, 7, 11, 13, 17, 19, 23, 29, 31, 37, 41, 43, 47, 49}"
            ]
          },
          "metadata": {},
          "execution_count": 3
        }
      ],
      "source": [
        "#write the final set builder\n",
        "{x for x in range(1, 50) if (x % 2 != 0) and (x % 3 != 0) and (x % 5 != 0)}"
      ]
    },
    {
      "cell_type": "code",
      "execution_count": null,
      "metadata": {
        "collapsed": true,
        "id": "wQFornmNA0FI"
      },
      "outputs": [],
      "source": [
        "#write a function returning the subset of the set \"numbers\" which are not divisible by 2, 3, or 5\n",
        "def not_divisible_235(numbers):\n",
        "    subset = {x for x in numbers if (x % 2 != 0) and (x % 3 != 0) and (x % 5 != 0)}\n",
        "    return subset"
      ]
    },
    {
      "cell_type": "code",
      "execution_count": null,
      "metadata": {
        "id": "PjN0hhZ-A0FI",
        "outputId": "7daed19c-9fe0-49e8-e626-a9d15a04a5b2",
        "colab": {
          "base_uri": "https://localhost:8080/"
        }
      },
      "outputs": [
        {
          "output_type": "execute_result",
          "data": {
            "text/plain": [
              "{7, 49, 89, 3457, 43574389}"
            ]
          },
          "metadata": {},
          "execution_count": 5
        }
      ],
      "source": [
        "numbers = {43574389, 3457, 2,7,89, 25, 49}\n",
        "not_divisible_235(numbers)\n",
        "\n"
      ]
    },
    {
      "cell_type": "markdown",
      "metadata": {
        "id": "hfSixHcPA0FI"
      },
      "source": [
        "Set complement"
      ]
    },
    {
      "cell_type": "code",
      "execution_count": null,
      "metadata": {
        "id": "8o2FDw15A0FI"
      },
      "outputs": [],
      "source": [
        "U = range(50)\n",
        "S = {x*2 for x in range(25)}\n",
        "\n",
        "#write a set builder to compute the complement of S\n",
        "S_bar = {x for x in U if x not in S}"
      ]
    },
    {
      "cell_type": "code",
      "execution_count": null,
      "metadata": {
        "id": "EUtepWRZA0FJ",
        "outputId": "3b9e9575-90ad-4c90-966a-353a5f1e743c",
        "colab": {
          "base_uri": "https://localhost:8080/"
        }
      },
      "outputs": [
        {
          "output_type": "stream",
          "name": "stdout",
          "text": [
            "{1, 3, 5, 7, 9, 11, 13, 15, 17, 19, 21, 23, 25, 27, 29, 31, 33, 35, 37, 39, 41, 43, 45, 47, 49}\n"
          ]
        }
      ],
      "source": [
        "print(S_bar)"
      ]
    },
    {
      "cell_type": "markdown",
      "metadata": {
        "id": "dy90MBlVA0FJ"
      },
      "source": [
        "Set product"
      ]
    },
    {
      "cell_type": "code",
      "execution_count": null,
      "metadata": {
        "id": "azYgCQJFA0FJ",
        "colab": {
          "base_uri": "https://localhost:8080/"
        },
        "outputId": "6613b467-6a45-43d1-8a76-80fbe7377c33"
      },
      "outputs": [
        {
          "output_type": "stream",
          "name": "stdout",
          "text": [
            "{(1, 'b'), (4, 'c'), (2, 'a'), (3, 'a'), (1, 'a'), (2, 'c'), (4, 'b'), (3, 'c'), (2, 'b'), (1, 'c'), (3, 'b'), (4, 'a')}\n"
          ]
        }
      ],
      "source": [
        "S = {1, 2, 3, 4}\n",
        "T = {'a', 'b', 'c'}\n",
        "\n",
        "#write code to compute the set product of S x T\n",
        "product = {(x, y) for x in S for y in T}\n",
        "print(product)"
      ]
    },
    {
      "cell_type": "code",
      "execution_count": null,
      "metadata": {
        "id": "uzGCPbJ1A0FJ",
        "colab": {
          "base_uri": "https://localhost:8080/"
        },
        "outputId": "e35617eb-7354-479e-9b45-6f1cab984e18"
      },
      "outputs": [
        {
          "output_type": "execute_result",
          "data": {
            "text/plain": [
              "set()"
            ]
          },
          "metadata": {},
          "execution_count": 12
        }
      ],
      "source": [
        "#filter the product to contain only elements where the first entry of the tuple is even\n",
        "\n",
        "#{(x, y) for x in S for y in T if x %2 == 0}\n",
        "#{(x,y) for x,y in product if x % 2 == 0}\n",
        "\n",
        "{(x, y) for x in S for y in set()}"
      ]
    },
    {
      "cell_type": "markdown",
      "source": [
        "Creating sets of tuples with multiple loops"
      ],
      "metadata": {
        "id": "3un_X1GND5Rs"
      }
    },
    {
      "cell_type": "code",
      "source": [
        "{x+y  for x in range(5) for y in range(7) if x>1}"
      ],
      "metadata": {
        "colab": {
          "base_uri": "https://localhost:8080/"
        },
        "id": "adztZ1RFEARW",
        "outputId": "e2103807-bdd8-40f9-a332-0f7184b0b3a3"
      },
      "execution_count": null,
      "outputs": [
        {
          "output_type": "execute_result",
          "data": {
            "text/plain": [
              "{2, 3, 4, 5, 6, 7, 8, 9, 10}"
            ]
          },
          "metadata": {},
          "execution_count": 14
        }
      ]
    },
    {
      "cell_type": "code",
      "source": [
        "#write a set containing all nonnegative integers x, y >= 0 where x^2 + y is <= 10 and y^2 + x > 5\n",
        "{(x,y) for x in range(11) for y in range(11) if x**2 + y <= 10 and y**2 + x > 5}"
      ],
      "metadata": {
        "id": "7yedZMj5EMrz",
        "colab": {
          "base_uri": "https://localhost:8080/"
        },
        "outputId": "57549131-7018-4b4c-ec7f-06e0cd570025"
      },
      "execution_count": null,
      "outputs": [
        {
          "output_type": "execute_result",
          "data": {
            "text/plain": [
              "{(0, 3),\n",
              " (0, 4),\n",
              " (0, 5),\n",
              " (0, 6),\n",
              " (0, 7),\n",
              " (0, 8),\n",
              " (0, 9),\n",
              " (0, 10),\n",
              " (1, 3),\n",
              " (1, 4),\n",
              " (1, 5),\n",
              " (1, 6),\n",
              " (1, 7),\n",
              " (1, 8),\n",
              " (1, 9),\n",
              " (2, 2),\n",
              " (2, 3),\n",
              " (2, 4),\n",
              " (2, 5),\n",
              " (2, 6)}"
            ]
          },
          "metadata": {},
          "execution_count": 13
        }
      ]
    },
    {
      "cell_type": "markdown",
      "source": [
        "$\\{(x, y) \\in Z_+^2 | x^2 + y \\leq 10, y^2 + x > 5\\}$\n",
        "\n",
        "$Z_+ \\times Z_+$ $R^2$ $R^n$"
      ],
      "metadata": {
        "id": "DN6Zn0lhtgQR"
      }
    },
    {
      "cell_type": "markdown",
      "metadata": {
        "id": "E3TxDBd9A0FJ"
      },
      "source": [
        "# Lecture 2\n",
        "\n",
        "Reminders:\n",
        "* Homework 1 due EOD on Sunday\n",
        "* No recitation this week (no class Friday)\n",
        "\n",
        "What's ahead:\n",
        "* Today: more preliminaries\n",
        "* Data types and functions\n",
        "* Next week: start linear algebra (pace picks up)"
      ]
    },
    {
      "cell_type": "markdown",
      "metadata": {
        "id": "o2uArD88A0FJ"
      },
      "source": [
        "## Data types and functions\n",
        "\n",
        "Based on: [Geoff Gordon's data types lecture notes](https://qna.cs.cmu.edu/#/pages/view/145)\n",
        "\n",
        "### Data types\n",
        "\n",
        "- Different types such as int, char, float...\n",
        "\n",
        "- Also combinations, for instance in C:\n",
        "\n",
        "\n",
        "```C\n",
        "struct{int a, float b}\n",
        "```\n",
        "\n",
        "defines a set product $\\mathbb{Z}\\times\\mathbb{R}$.\n",
        "\n",
        "- Sometimes, the same argument can have one of two types, so you can use a union:\n",
        "\n",
        "```C\n",
        "union{int a, float b}\n",
        "```\n",
        "\n",
        "How is this different from the mathematical expression $\\mathbb{Z}\\cup\\mathbb{R}$?\n"
      ]
    },
    {
      "cell_type": "markdown",
      "metadata": {
        "id": "XTTLWC3XA0FK"
      },
      "source": [
        "### Tagged unions\n",
        "\n",
        "Some language differentiate between different types by using an additional indicator (e.g. first few bits).\n",
        "\n",
        "We can also manually tag the elements:\n",
        "\n",
        "$\\mathbb{Z}\\times\\{1\\} \\cup \\mathbb{R}\\times \\{2\\}$\n",
        "\n",
        "How is this different from $\\mathbb{Z} \\cup \\mathbb{R}$?"
      ]
    },
    {
      "cell_type": "markdown",
      "metadata": {
        "id": "1tVU7NgqA0FK"
      },
      "source": [
        "### Functions\n",
        "\n",
        "$f(x) = 4x - 5 $ is of type $\\mathbb{R} \\rightarrow \\mathbb{R} $\n",
        "\n",
        "$g(x,y) = x^2 + 4xy +0.5 y^2$ is of type $\\mathbb{R} \\times \\mathbb{R} \\rightarrow \\mathbb{R} $      \n",
        "\n",
        "Can operate on other sets as well.\n",
        "\n",
        "Functions are:\n",
        "- complete (defined for every value)\n",
        "- single valued (one output for each input)\n",
        "\n",
        "i.e. if $p\\in X\\rightarrow Y$ then for every $x\\in X$ there exist a unique $p(x) \\in Y$\n",
        "\n",
        "\n",
        "Alternate notation  for $X\\rightarrow Y$ is  $Y^X$"
      ]
    },
    {
      "cell_type": "markdown",
      "metadata": {
        "id": "I6t8tbfCA0FK"
      },
      "source": [
        "#### Anonymous functions\n",
        "\n",
        "Some languages require all functions to have names and the types to be indicated:\n",
        "\n",
        "```C\n",
        "float p(float x) {return x**2;}\n",
        "```\n",
        "\n",
        "In others we can use lambda notation:\n",
        "\n",
        "$\\lambda$ arguments.expression\n",
        "\n",
        "e.g. $\\lambda x,y.x^2 + 4xy +0.5 y^2$ is of type $\\mathbb{R} \\times \\mathbb{R} \\rightarrow \\mathbb{R} $\n"
      ]
    },
    {
      "cell_type": "code",
      "execution_count": null,
      "metadata": {
        "id": "i9sYwkjnA0FK",
        "outputId": "848ef53c-91e3-4c60-8f0f-192b7f260246"
      },
      "outputs": [
        {
          "data": {
            "text/plain": [
              "6.5"
            ]
          },
          "execution_count": 41,
          "metadata": {},
          "output_type": "execute_result"
        }
      ],
      "source": [
        "p = lambda x,y: x**2 + 4*x*y + 0.5*y**2\n",
        "\n",
        "def p2(x,y):\n",
        "    return x**2 + 4*x*y + 0.5*y**2\n",
        "\n",
        "f = lambda x,y: p(x,y) + 1\n"
      ]
    },
    {
      "cell_type": "markdown",
      "metadata": {
        "id": "b6ofGtciA0FK"
      },
      "source": [
        "Write a python anonymous function to represent the predicate:\n",
        "\n",
        "$ (x^4 - x^2) \\ge -0.1 $"
      ]
    },
    {
      "cell_type": "code",
      "execution_count": null,
      "metadata": {
        "id": "RZO7ijTbA0FK",
        "outputId": "76416b5c-122d-4e82-c818-4adb615b8d51",
        "colab": {
          "base_uri": "https://localhost:8080/"
        }
      },
      "outputs": [
        {
          "output_type": "stream",
          "name": "stdout",
          "text": [
            "False\n",
            "False\n"
          ]
        }
      ],
      "source": [
        "#write the lambda function here\n",
        "pred = lambda x: x**4 - x**2 >= -0.1\n",
        "\n",
        "print(pred(0.5))\n",
        "\n",
        "#write a non-anonymous function here\n",
        "def pred2(x):\n",
        "  return x**4 - x**2 >= -0.1\n",
        "\n",
        "\n",
        "print(pred2(0.5))"
      ]
    },
    {
      "cell_type": "markdown",
      "metadata": {
        "id": "nCivUM-dA0FL"
      },
      "source": [
        "**Write** a function **filter** that takes as set and a predicate and returns the elements of the set for which the predicate evaluates to **true**."
      ]
    },
    {
      "cell_type": "code",
      "execution_count": null,
      "metadata": {
        "id": "NHiF8hRdA0FL"
      },
      "outputs": [],
      "source": [
        "def filter(predicate, set_s):\n",
        "    return {x for x in set_s if predicate(x)}\n"
      ]
    },
    {
      "cell_type": "markdown",
      "metadata": {
        "id": "anzf1gDfA0FL"
      },
      "source": [
        "Test **filter** by applying it to the set {-1, -0.75, -0.5 ... 0.75, 1} and the predicate you defined above."
      ]
    },
    {
      "cell_type": "code",
      "execution_count": null,
      "metadata": {
        "id": "xb0SFTupA0FL",
        "outputId": "b296cb3a-948b-4d8a-b5a8-65034617117a",
        "colab": {
          "base_uri": "https://localhost:8080/"
        }
      },
      "outputs": [
        {
          "output_type": "stream",
          "name": "stdout",
          "text": [
            "{-0.75, -0.5, 0.0, -0.25, 0.25, 0.5, 0.75, 1.0, -1.0}\n"
          ]
        },
        {
          "output_type": "execute_result",
          "data": {
            "text/plain": [
              "{-1.0, -0.25, 0.0, 0.25, 1.0}"
            ]
          },
          "metadata": {},
          "execution_count": 17
        }
      ],
      "source": [
        "import numpy as np\n",
        "\n",
        "set_a = np.linspace(-1,1,9)\n",
        "set_a = set(set_a)\n",
        "print(set_a)\n",
        "\n",
        "pred = lambda x: (x**4 - x**2) >= -0.1\n",
        "\n",
        "#apply filter to the predicate\n",
        "filter(pred, set_a)"
      ]
    },
    {
      "cell_type": "code",
      "source": [
        "A = {1, 2, 'a'}\n",
        "B = {x for x in range(5)}\n",
        "B = set()\n",
        "C = set(range(5))\n",
        "print(C)\n",
        "\n",
        "a = np.linspace(-1,1,9)\n",
        "set(a)"
      ],
      "metadata": {
        "colab": {
          "base_uri": "https://localhost:8080/"
        },
        "id": "7gaiWGXv567g",
        "outputId": "48f461af-82aa-475b-a863-5943f863d95d"
      },
      "execution_count": null,
      "outputs": [
        {
          "output_type": "stream",
          "name": "stdout",
          "text": [
            "{0, 1, 2, 3, 4}\n"
          ]
        },
        {
          "output_type": "execute_result",
          "data": {
            "text/plain": [
              "{-1.0, -0.75, -0.5, -0.25, 0.0, 0.25, 0.5, 0.75, 1.0}"
            ]
          },
          "metadata": {},
          "execution_count": 20
        }
      ]
    },
    {
      "cell_type": "markdown",
      "metadata": {
        "id": "K6fk81mZA0FL"
      },
      "source": [
        "# Exercises\n",
        "\n",
        "1. Consider the ceiling function $f(x) = \\lceil x\\rceil$. For any real number, $f(x)$ rounds $x$ up to the nearest whole number. Write a mathematical description of the type of function $f$.\n",
        "\n",
        "$f: R \\to Z$\n",
        "\n",
        "\n",
        "2. Write python code which implements ceiling as a lambda function.\n",
        "\n",
        "f = lambda x: int(x) + 1 if x != int(x) else int(x)\n",
        "\n",
        "3. Consider a function $g$ that takes as input any function $f$ and returns a new function which applies ceiling to $f$. Write a mathematical description of the type of function $g$.\n",
        "\n",
        "$(R \\to R) \\to (R \\to Z)$"
      ]
    },
    {
      "cell_type": "code",
      "execution_count": null,
      "metadata": {
        "id": "1aaSt0PxA0FL"
      },
      "outputs": [],
      "source": []
    }
  ],
  "metadata": {
    "celltoolbar": "Slideshow",
    "kernelspec": {
      "display_name": "Python 3 (ipykernel)",
      "language": "python",
      "name": "python3"
    },
    "language_info": {
      "codemirror_mode": {
        "name": "ipython",
        "version": 3
      },
      "file_extension": ".py",
      "mimetype": "text/x-python",
      "name": "python",
      "nbconvert_exporter": "python",
      "pygments_lexer": "ipython3",
      "version": "3.10.9"
    },
    "rise": {
      "scroll": true
    },
    "colab": {
      "provenance": [],
      "include_colab_link": true
    }
  },
  "nbformat": 4,
  "nbformat_minor": 0
}